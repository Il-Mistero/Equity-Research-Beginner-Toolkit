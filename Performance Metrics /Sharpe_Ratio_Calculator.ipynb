{
  "nbformat": 4,
  "nbformat_minor": 0,
  "metadata": {
    "colab": {
      "provenance": []
    },
    "kernelspec": {
      "name": "python3",
      "display_name": "Python 3"
    },
    "language_info": {
      "name": "python"
    }
  },
  "cells": [
    {
      "cell_type": "code",
      "execution_count": 53,
      "metadata": {
        "colab": {
          "base_uri": "https://localhost:8080/"
        },
        "id": "LUfzb45aJC8D",
        "outputId": "ed8e660e-5d73-4c96-9279-7aa5fdd6e95e"
      },
      "outputs": [
        {
          "output_type": "stream",
          "name": "stdout",
          "text": [
            "Requirement already satisfied: yfinance in /usr/local/lib/python3.10/dist-packages (0.2.49)\n",
            "Requirement already satisfied: numpy in /usr/local/lib/python3.10/dist-packages (1.26.4)\n",
            "Requirement already satisfied: pandas in /usr/local/lib/python3.10/dist-packages (2.2.2)\n",
            "Requirement already satisfied: matplotlib in /usr/local/lib/python3.10/dist-packages (3.8.0)\n",
            "Requirement already satisfied: datetime in /usr/local/lib/python3.10/dist-packages (5.5)\n",
            "Requirement already satisfied: requests>=2.31 in /usr/local/lib/python3.10/dist-packages (from yfinance) (2.32.3)\n",
            "Requirement already satisfied: multitasking>=0.0.7 in /usr/local/lib/python3.10/dist-packages (from yfinance) (0.0.11)\n",
            "Requirement already satisfied: lxml>=4.9.1 in /usr/local/lib/python3.10/dist-packages (from yfinance) (5.3.0)\n",
            "Requirement already satisfied: platformdirs>=2.0.0 in /usr/local/lib/python3.10/dist-packages (from yfinance) (4.3.6)\n",
            "Requirement already satisfied: pytz>=2022.5 in /usr/local/lib/python3.10/dist-packages (from yfinance) (2024.2)\n",
            "Requirement already satisfied: frozendict>=2.3.4 in /usr/local/lib/python3.10/dist-packages (from yfinance) (2.4.6)\n",
            "Requirement already satisfied: peewee>=3.16.2 in /usr/local/lib/python3.10/dist-packages (from yfinance) (3.17.8)\n",
            "Requirement already satisfied: beautifulsoup4>=4.11.1 in /usr/local/lib/python3.10/dist-packages (from yfinance) (4.12.3)\n",
            "Requirement already satisfied: html5lib>=1.1 in /usr/local/lib/python3.10/dist-packages (from yfinance) (1.1)\n",
            "Requirement already satisfied: python-dateutil>=2.8.2 in /usr/local/lib/python3.10/dist-packages (from pandas) (2.8.2)\n",
            "Requirement already satisfied: tzdata>=2022.7 in /usr/local/lib/python3.10/dist-packages (from pandas) (2024.2)\n",
            "Requirement already satisfied: contourpy>=1.0.1 in /usr/local/lib/python3.10/dist-packages (from matplotlib) (1.3.1)\n",
            "Requirement already satisfied: cycler>=0.10 in /usr/local/lib/python3.10/dist-packages (from matplotlib) (0.12.1)\n",
            "Requirement already satisfied: fonttools>=4.22.0 in /usr/local/lib/python3.10/dist-packages (from matplotlib) (4.55.0)\n",
            "Requirement already satisfied: kiwisolver>=1.0.1 in /usr/local/lib/python3.10/dist-packages (from matplotlib) (1.4.7)\n",
            "Requirement already satisfied: packaging>=20.0 in /usr/local/lib/python3.10/dist-packages (from matplotlib) (24.2)\n",
            "Requirement already satisfied: pillow>=6.2.0 in /usr/local/lib/python3.10/dist-packages (from matplotlib) (11.0.0)\n",
            "Requirement already satisfied: pyparsing>=2.3.1 in /usr/local/lib/python3.10/dist-packages (from matplotlib) (3.2.0)\n",
            "Requirement already satisfied: zope.interface in /usr/local/lib/python3.10/dist-packages (from datetime) (7.1.1)\n",
            "Requirement already satisfied: soupsieve>1.2 in /usr/local/lib/python3.10/dist-packages (from beautifulsoup4>=4.11.1->yfinance) (2.6)\n",
            "Requirement already satisfied: six>=1.9 in /usr/local/lib/python3.10/dist-packages (from html5lib>=1.1->yfinance) (1.16.0)\n",
            "Requirement already satisfied: webencodings in /usr/local/lib/python3.10/dist-packages (from html5lib>=1.1->yfinance) (0.5.1)\n",
            "Requirement already satisfied: charset-normalizer<4,>=2 in /usr/local/lib/python3.10/dist-packages (from requests>=2.31->yfinance) (3.4.0)\n",
            "Requirement already satisfied: idna<4,>=2.5 in /usr/local/lib/python3.10/dist-packages (from requests>=2.31->yfinance) (3.10)\n",
            "Requirement already satisfied: urllib3<3,>=1.21.1 in /usr/local/lib/python3.10/dist-packages (from requests>=2.31->yfinance) (2.2.3)\n",
            "Requirement already satisfied: certifi>=2017.4.17 in /usr/local/lib/python3.10/dist-packages (from requests>=2.31->yfinance) (2024.8.30)\n",
            "Requirement already satisfied: setuptools in /usr/local/lib/python3.10/dist-packages (from zope.interface->datetime) (75.1.0)\n"
          ]
        }
      ],
      "source": [
        "!pip install yfinance numpy pandas matplotlib datetime\n",
        "\n",
        "import yfinance as yf\n",
        "import numpy as np\n",
        "import pandas as pd\n",
        "import matplotlib.pyplot as plt\n",
        "from datetime import datetime"
      ]
    },
    {
      "cell_type": "code",
      "source": [
        "ticker = \"AAPL\"\n",
        "start_date = datetime(2013,11,25)\n",
        "end_date = datetime(2024,11,26)\n",
        "\n",
        "data = yf.download(ticker, start_date, end_date)\n",
        "print(data)"
      ],
      "metadata": {
        "colab": {
          "base_uri": "https://localhost:8080/"
        },
        "id": "GTKgf8V4Jgd7",
        "outputId": "d929d7a3-3736-4d50-cba9-a39548e663d6"
      },
      "execution_count": 77,
      "outputs": [
        {
          "output_type": "stream",
          "name": "stderr",
          "text": [
            "\r[*********************100%***********************]  1 of 1 completed"
          ]
        },
        {
          "output_type": "stream",
          "name": "stdout",
          "text": [
            "Price                       Adj Close       Close        High         Low  \\\n",
            "Ticker                           AAPL        AAPL        AAPL        AAPL   \n",
            "Date                                                                        \n",
            "2013-11-25 00:00:00+00:00   16.318571   18.705000   18.781071   18.607143   \n",
            "2013-11-26 00:00:00+00:00   16.619556   19.049999   19.147858   18.714287   \n",
            "2013-11-27 00:00:00+00:00   17.010893   19.498571   19.500000   19.049999   \n",
            "2013-11-29 00:00:00+00:00   17.325895   19.859644   19.940357   19.564644   \n",
            "2013-12-02 00:00:00+00:00   17.175098   19.686787   20.154642   19.672144   \n",
            "...                               ...         ...         ...         ...   \n",
            "2024-11-19 00:00:00+00:00  228.279999  228.279999  230.160004  226.660004   \n",
            "2024-11-20 00:00:00+00:00  229.000000  229.000000  229.929993  225.889999   \n",
            "2024-11-21 00:00:00+00:00  228.520004  228.520004  230.160004  225.710007   \n",
            "2024-11-22 00:00:00+00:00  229.869995  229.869995  230.720001  228.059998   \n",
            "2024-11-25 00:00:00+00:00  232.869995  232.869995  233.250000  229.740005   \n",
            "\n",
            "Price                            Open     Volume  \n",
            "Ticker                           AAPL       AAPL  \n",
            "Date                                              \n",
            "2013-11-25 00:00:00+00:00   18.607857  229311600  \n",
            "2013-11-26 00:00:00+00:00   18.718571  401382800  \n",
            "2013-11-27 00:00:00+00:00   19.153929  363448400  \n",
            "2013-11-29 00:00:00+00:00   19.624287  318127600  \n",
            "2013-12-02 00:00:00+00:00   19.928572  472544800  \n",
            "...                               ...        ...  \n",
            "2024-11-19 00:00:00+00:00  226.979996   36211800  \n",
            "2024-11-20 00:00:00+00:00  228.059998   35169600  \n",
            "2024-11-21 00:00:00+00:00  228.880005   42108300  \n",
            "2024-11-22 00:00:00+00:00  228.059998   38168300  \n",
            "2024-11-25 00:00:00+00:00  231.460007   90152800  \n",
            "\n",
            "[2769 rows x 6 columns]\n"
          ]
        },
        {
          "output_type": "stream",
          "name": "stderr",
          "text": [
            "\n"
          ]
        }
      ]
    },
    {
      "cell_type": "code",
      "source": [
        "data = data.drop(columns=['Adj Close', 'High', 'Low', 'Open', 'Volume'])\n",
        "\n",
        "print(data)"
      ],
      "metadata": {
        "colab": {
          "base_uri": "https://localhost:8080/"
        },
        "id": "5ayKAPmwJyQg",
        "outputId": "b70ffcc6-bdbb-4b78-ff5a-0ee1673a75e3"
      },
      "execution_count": 78,
      "outputs": [
        {
          "output_type": "stream",
          "name": "stdout",
          "text": [
            "Price                           Close\n",
            "Ticker                           AAPL\n",
            "Date                                 \n",
            "2013-11-25 00:00:00+00:00   18.705000\n",
            "2013-11-26 00:00:00+00:00   19.049999\n",
            "2013-11-27 00:00:00+00:00   19.498571\n",
            "2013-11-29 00:00:00+00:00   19.859644\n",
            "2013-12-02 00:00:00+00:00   19.686787\n",
            "...                               ...\n",
            "2024-11-19 00:00:00+00:00  228.279999\n",
            "2024-11-20 00:00:00+00:00  229.000000\n",
            "2024-11-21 00:00:00+00:00  228.520004\n",
            "2024-11-22 00:00:00+00:00  229.869995\n",
            "2024-11-25 00:00:00+00:00  232.869995\n",
            "\n",
            "[2769 rows x 1 columns]\n"
          ]
        }
      ]
    },
    {
      "cell_type": "code",
      "source": [
        "date_dif = end_date - start_date\n",
        "years = date_dif.days/ 365\n",
        "\n",
        "start_price = data['Close'].iloc[0]\n",
        "end_price = data['Close'].iloc[-1]\n",
        "\n",
        "annual_return = ((end_price / start_price) ** (1 / years)) - 1\n",
        "\n",
        "data['Daily Return'] = data['Close'].pct_change()\n",
        "data['Daily Return'] = data['Daily Return'].fillna(0)\n",
        "annual_std_dev = data['Daily Return'].std() * np.sqrt(252)\n",
        "\n",
        "risk_free_rate = 0.04\n",
        "\n",
        "sharpe_ratio = (annual_return - risk_free_rate) / annual_std_dev\n",
        "print(sharpe_ratio)"
      ],
      "metadata": {
        "colab": {
          "base_uri": "https://localhost:8080/"
        },
        "id": "ooZ_XFxAKTV5",
        "outputId": "2d5955fc-e15c-4ddf-d32d-08c33f5b23b3"
      },
      "execution_count": 79,
      "outputs": [
        {
          "output_type": "stream",
          "name": "stdout",
          "text": [
            "Ticker\n",
            "AAPL    0.777674\n",
            "dtype: float64\n"
          ]
        }
      ]
    }
  ]
}
