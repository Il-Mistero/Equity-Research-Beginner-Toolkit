{
  "nbformat": 4,
  "nbformat_minor": 0,
  "metadata": {
    "colab": {
      "provenance": []
    },
    "kernelspec": {
      "name": "python3",
      "display_name": "Python 3"
    },
    "language_info": {
      "name": "python"
    }
  },
  "cells": [
    {
      "cell_type": "markdown",
      "source": [
        "**STEP 1**: The installation, importation and upgrade of the needed libraries. This is important as there would be no code without these."
      ],
      "metadata": {
        "id": "7_LFzy6Oe5DX"
      }
    },
    {
      "cell_type": "code",
      "execution_count": 11,
      "metadata": {
        "colab": {
          "base_uri": "https://localhost:8080/"
        },
        "id": "9l7R3HDIchn3",
        "outputId": "33bf585b-16b3-4a57-fdb7-5a2d9827d60b"
      },
      "outputs": [
        {
          "output_type": "stream",
          "name": "stdout",
          "text": [
            "Requirement already satisfied: yfinance in /usr/local/lib/python3.10/dist-packages (0.2.49)\n",
            "Requirement already satisfied: numpy in /usr/local/lib/python3.10/dist-packages (1.26.4)\n",
            "Requirement already satisfied: pandas in /usr/local/lib/python3.10/dist-packages (2.2.2)\n",
            "Requirement already satisfied: matplotlib in /usr/local/lib/python3.10/dist-packages (3.8.0)\n",
            "Requirement already satisfied: requests>=2.31 in /usr/local/lib/python3.10/dist-packages (from yfinance) (2.32.3)\n",
            "Requirement already satisfied: multitasking>=0.0.7 in /usr/local/lib/python3.10/dist-packages (from yfinance) (0.0.11)\n",
            "Requirement already satisfied: lxml>=4.9.1 in /usr/local/lib/python3.10/dist-packages (from yfinance) (5.3.0)\n",
            "Requirement already satisfied: platformdirs>=2.0.0 in /usr/local/lib/python3.10/dist-packages (from yfinance) (4.3.6)\n",
            "Requirement already satisfied: pytz>=2022.5 in /usr/local/lib/python3.10/dist-packages (from yfinance) (2024.2)\n",
            "Requirement already satisfied: frozendict>=2.3.4 in /usr/local/lib/python3.10/dist-packages (from yfinance) (2.4.6)\n",
            "Requirement already satisfied: peewee>=3.16.2 in /usr/local/lib/python3.10/dist-packages (from yfinance) (3.17.8)\n",
            "Requirement already satisfied: beautifulsoup4>=4.11.1 in /usr/local/lib/python3.10/dist-packages (from yfinance) (4.12.3)\n",
            "Requirement already satisfied: html5lib>=1.1 in /usr/local/lib/python3.10/dist-packages (from yfinance) (1.1)\n",
            "Requirement already satisfied: python-dateutil>=2.8.2 in /usr/local/lib/python3.10/dist-packages (from pandas) (2.8.2)\n",
            "Requirement already satisfied: tzdata>=2022.7 in /usr/local/lib/python3.10/dist-packages (from pandas) (2024.2)\n",
            "Requirement already satisfied: contourpy>=1.0.1 in /usr/local/lib/python3.10/dist-packages (from matplotlib) (1.3.1)\n",
            "Requirement already satisfied: cycler>=0.10 in /usr/local/lib/python3.10/dist-packages (from matplotlib) (0.12.1)\n",
            "Requirement already satisfied: fonttools>=4.22.0 in /usr/local/lib/python3.10/dist-packages (from matplotlib) (4.55.0)\n",
            "Requirement already satisfied: kiwisolver>=1.0.1 in /usr/local/lib/python3.10/dist-packages (from matplotlib) (1.4.7)\n",
            "Requirement already satisfied: packaging>=20.0 in /usr/local/lib/python3.10/dist-packages (from matplotlib) (24.2)\n",
            "Requirement already satisfied: pillow>=6.2.0 in /usr/local/lib/python3.10/dist-packages (from matplotlib) (11.0.0)\n",
            "Requirement already satisfied: pyparsing>=2.3.1 in /usr/local/lib/python3.10/dist-packages (from matplotlib) (3.2.0)\n",
            "Requirement already satisfied: soupsieve>1.2 in /usr/local/lib/python3.10/dist-packages (from beautifulsoup4>=4.11.1->yfinance) (2.6)\n",
            "Requirement already satisfied: six>=1.9 in /usr/local/lib/python3.10/dist-packages (from html5lib>=1.1->yfinance) (1.16.0)\n",
            "Requirement already satisfied: webencodings in /usr/local/lib/python3.10/dist-packages (from html5lib>=1.1->yfinance) (0.5.1)\n",
            "Requirement already satisfied: charset-normalizer<4,>=2 in /usr/local/lib/python3.10/dist-packages (from requests>=2.31->yfinance) (3.4.0)\n",
            "Requirement already satisfied: idna<4,>=2.5 in /usr/local/lib/python3.10/dist-packages (from requests>=2.31->yfinance) (3.10)\n",
            "Requirement already satisfied: urllib3<3,>=1.21.1 in /usr/local/lib/python3.10/dist-packages (from requests>=2.31->yfinance) (2.2.3)\n",
            "Requirement already satisfied: certifi>=2017.4.17 in /usr/local/lib/python3.10/dist-packages (from requests>=2.31->yfinance) (2024.8.30)\n"
          ]
        }
      ],
      "source": [
        "!pip install yfinance numpy pandas matplotlib\n",
        "\n",
        "import yfinance as yf\n",
        "import numpy as np\n",
        "import pandas as pd\n",
        "import matplotlib.pyplot as plt"
      ]
    },
    {
      "cell_type": "markdown",
      "source": [
        "**STEP 2**: The creation of an interface that allows for the input of the ticker symbol of the equity, start date of data collection and end date of data collection. The interface should address the ease of changeability"
      ],
      "metadata": {
        "id": "o4rf3yfue9WJ"
      }
    },
    {
      "cell_type": "code",
      "source": [
        "ticker = \"ACN\"\n",
        "start_date = \"2020-01-01\"\n",
        "end_date = \"2024-11-22\"\n",
        "\n",
        "data = yf.download(ticker, start_date, end_date)\n",
        "print(data)"
      ],
      "metadata": {
        "colab": {
          "base_uri": "https://localhost:8080/"
        },
        "id": "qj5aZZYjctLj",
        "outputId": "2cb8d589-3ec1-4845-8e9d-a2a6ae6722f7"
      },
      "execution_count": 20,
      "outputs": [
        {
          "output_type": "stream",
          "name": "stderr",
          "text": [
            "\r[*********************100%***********************]  1 of 1 completed"
          ]
        },
        {
          "output_type": "stream",
          "name": "stdout",
          "text": [
            "Price                       Adj Close       Close        High         Low  \\\n",
            "Ticker                            ACN         ACN         ACN         ACN   \n",
            "Date                                                                        \n",
            "2020-01-02 00:00:00+00:00  195.263580  210.149994  211.919998  208.809998   \n",
            "2020-01-03 00:00:00+00:00  194.938354  209.800003  210.630005  207.000000   \n",
            "2020-01-06 00:00:00+00:00  193.665421  208.429993  208.789993  206.809998   \n",
            "2020-01-07 00:00:00+00:00  189.484192  203.929993  206.259995  203.190002   \n",
            "2020-01-08 00:00:00+00:00  189.855911  204.330002  205.449997  203.529999   \n",
            "...                               ...         ...         ...         ...   \n",
            "2024-11-15 00:00:00+00:00  353.570007  353.570007  360.309998  348.850006   \n",
            "2024-11-18 00:00:00+00:00  352.790009  352.790009  355.500000  351.820007   \n",
            "2024-11-19 00:00:00+00:00  353.950012  353.950012  353.970001  349.989990   \n",
            "2024-11-20 00:00:00+00:00  357.070007  357.070007  357.329987  351.649994   \n",
            "2024-11-21 00:00:00+00:00  361.049988  361.049988  363.500000  358.309998   \n",
            "\n",
            "Price                            Open   Volume  \n",
            "Ticker                            ACN      ACN  \n",
            "Date                                            \n",
            "2020-01-02 00:00:00+00:00  210.860001  2431100  \n",
            "2020-01-03 00:00:00+00:00  208.500000  1802100  \n",
            "2020-01-06 00:00:00+00:00  208.270004  2841400  \n",
            "2020-01-07 00:00:00+00:00  203.199997  3097400  \n",
            "2020-01-08 00:00:00+00:00  204.000000  2271300  \n",
            "...                               ...      ...  \n",
            "2024-11-15 00:00:00+00:00  360.279999  3614700  \n",
            "2024-11-18 00:00:00+00:00  353.570007  1759900  \n",
            "2024-11-19 00:00:00+00:00  351.250000  2447000  \n",
            "2024-11-20 00:00:00+00:00  353.709991  1792700  \n",
            "2024-11-21 00:00:00+00:00  359.519989  2240100  \n",
            "\n",
            "[1232 rows x 6 columns]\n"
          ]
        },
        {
          "output_type": "stream",
          "name": "stderr",
          "text": [
            "\n"
          ]
        }
      ]
    },
    {
      "cell_type": "markdown",
      "source": [
        "**STEP 3**: The creation of an interface that allows for the input of the ticker symbol of the **MARKET INDEX**, start date of data collection and end date of data collection. The interface should address the ease of changeability"
      ],
      "metadata": {
        "id": "34XPgqI1fNCF"
      }
    },
    {
      "cell_type": "code",
      "source": [
        "market_ticker = \"^GSPC\"\n",
        "start_date = \"2020-01-01\"\n",
        "end_date = \"2024-11-22\"\n",
        "\n",
        "market_data = yf.download(market_ticker, start_date, end_date)\n",
        "print(market_data)"
      ],
      "metadata": {
        "colab": {
          "base_uri": "https://localhost:8080/"
        },
        "id": "O3QP52QJdLd-",
        "outputId": "517dc926-b0a4-4474-9774-b92be28c5975"
      },
      "execution_count": 21,
      "outputs": [
        {
          "output_type": "stream",
          "name": "stderr",
          "text": [
            "\r[*********************100%***********************]  1 of 1 completed"
          ]
        },
        {
          "output_type": "stream",
          "name": "stdout",
          "text": [
            "Price                        Adj Close        Close         High          Low  \\\n",
            "Ticker                           ^GSPC        ^GSPC        ^GSPC        ^GSPC   \n",
            "Date                                                                            \n",
            "2020-01-02 00:00:00+00:00  3257.850098  3257.850098  3258.139893  3235.530029   \n",
            "2020-01-03 00:00:00+00:00  3234.850098  3234.850098  3246.149902  3222.340088   \n",
            "2020-01-06 00:00:00+00:00  3246.280029  3246.280029  3246.840088  3214.639893   \n",
            "2020-01-07 00:00:00+00:00  3237.179932  3237.179932  3244.909912  3232.429932   \n",
            "2020-01-08 00:00:00+00:00  3253.050049  3253.050049  3267.070068  3236.669922   \n",
            "...                                ...          ...          ...          ...   \n",
            "2024-11-15 00:00:00+00:00  5870.620117  5870.620117  5915.319824  5853.009766   \n",
            "2024-11-18 00:00:00+00:00  5893.620117  5893.620117  5908.120117  5865.950195   \n",
            "2024-11-19 00:00:00+00:00  5916.979980  5916.979980  5923.509766  5855.290039   \n",
            "2024-11-20 00:00:00+00:00  5917.109863  5917.109863  5920.669922  5860.560059   \n",
            "2024-11-21 00:00:00+00:00  5948.709961  5948.709961  5963.319824  5887.259766   \n",
            "\n",
            "Price                             Open      Volume  \n",
            "Ticker                           ^GSPC       ^GSPC  \n",
            "Date                                                \n",
            "2020-01-02 00:00:00+00:00  3244.669922  3459930000  \n",
            "2020-01-03 00:00:00+00:00  3226.360107  3484700000  \n",
            "2020-01-06 00:00:00+00:00  3217.550049  3702460000  \n",
            "2020-01-07 00:00:00+00:00  3241.860107  3435910000  \n",
            "2020-01-08 00:00:00+00:00  3238.590088  3726840000  \n",
            "...                                ...         ...  \n",
            "2024-11-15 00:00:00+00:00  5912.790039  4590960000  \n",
            "2024-11-18 00:00:00+00:00  5874.169922  3983860000  \n",
            "2024-11-19 00:00:00+00:00  5870.049805  4036940000  \n",
            "2024-11-20 00:00:00+00:00  5914.339844  3772620000  \n",
            "2024-11-21 00:00:00+00:00  5940.580078  4230120000  \n",
            "\n",
            "[1232 rows x 6 columns]\n"
          ]
        },
        {
          "output_type": "stream",
          "name": "stderr",
          "text": [
            "\n"
          ]
        }
      ]
    },
    {
      "cell_type": "markdown",
      "source": [
        "**STEP 4**: Dropping of the columns that are not needed in the equity data and the market index data for this project. The needed columns for this project are DATE and ADJUSTED CLOSE"
      ],
      "metadata": {
        "id": "3CU24VMsfTDc"
      }
    },
    {
      "cell_type": "code",
      "source": [
        "data = data.drop(columns=['Close', 'Open', 'High', 'Low', 'Volume'])\n",
        "market_data = market_data.drop(columns=['Close', 'Open', 'High', 'Low', 'Volume'])\n",
        "\n",
        "print(data)\n",
        "print(market_data)"
      ],
      "metadata": {
        "colab": {
          "base_uri": "https://localhost:8080/"
        },
        "id": "8UGp9mVRdubO",
        "outputId": "f5cf8c34-2fe5-44b0-9515-035c8a465b01"
      },
      "execution_count": 22,
      "outputs": [
        {
          "output_type": "stream",
          "name": "stdout",
          "text": [
            "Price                       Adj Close\n",
            "Ticker                            ACN\n",
            "Date                                 \n",
            "2020-01-02 00:00:00+00:00  195.263580\n",
            "2020-01-03 00:00:00+00:00  194.938354\n",
            "2020-01-06 00:00:00+00:00  193.665421\n",
            "2020-01-07 00:00:00+00:00  189.484192\n",
            "2020-01-08 00:00:00+00:00  189.855911\n",
            "...                               ...\n",
            "2024-11-15 00:00:00+00:00  353.570007\n",
            "2024-11-18 00:00:00+00:00  352.790009\n",
            "2024-11-19 00:00:00+00:00  353.950012\n",
            "2024-11-20 00:00:00+00:00  357.070007\n",
            "2024-11-21 00:00:00+00:00  361.049988\n",
            "\n",
            "[1232 rows x 1 columns]\n",
            "Price                        Adj Close\n",
            "Ticker                           ^GSPC\n",
            "Date                                  \n",
            "2020-01-02 00:00:00+00:00  3257.850098\n",
            "2020-01-03 00:00:00+00:00  3234.850098\n",
            "2020-01-06 00:00:00+00:00  3246.280029\n",
            "2020-01-07 00:00:00+00:00  3237.179932\n",
            "2020-01-08 00:00:00+00:00  3253.050049\n",
            "...                                ...\n",
            "2024-11-15 00:00:00+00:00  5870.620117\n",
            "2024-11-18 00:00:00+00:00  5893.620117\n",
            "2024-11-19 00:00:00+00:00  5916.979980\n",
            "2024-11-20 00:00:00+00:00  5917.109863\n",
            "2024-11-21 00:00:00+00:00  5948.709961\n",
            "\n",
            "[1232 rows x 1 columns]\n"
          ]
        }
      ]
    },
    {
      "cell_type": "markdown",
      "source": [
        "**STEP 5**: Computation of the beta of the equity as against the market index. If the beta is greater than 1, the stock is more volatile than the market. If the beta is equal to 1, the stock's returns move in sync with the market.\n",
        "\n",
        "If the beta is greater than 0 but less than 1, it implies that the stock is less volatile than the market. From my experience, this is great for conservative investors seeking stability and lower risk. If beta is equal to 0, it implies that the stock's returns are uncorrelated with the market.\n",
        "\n",
        "Finally, if the beta is less than 0, it implies that the stock moves inversely to the market."
      ],
      "metadata": {
        "id": "hJ-ctIFifw0r"
      }
    },
    {
      "cell_type": "code",
      "source": [
        "data['Daily Return'] = data['Adj Close'].pct_change()\n",
        "market_data['Daily Return'] = market_data['Adj Close'].pct_change()\n",
        "\n",
        "combined_data = pd.DataFrame({\n",
        "        'Stock Return': data['Daily Return'],\n",
        "        'Market Return': market_data['Daily Return']\n",
        "    }).dropna()\n",
        "\n",
        "covariance = combined_data.cov().iloc[0, 1]\n",
        "market_variance = combined_data['Market Return'].var()\n",
        "\n",
        "beta = covariance / market_variance\n",
        "\n",
        "print(f\"The Beta of {ticker} against {market_ticker} from {start_date} to {end_date} is: {beta:.2f}\")"
      ],
      "metadata": {
        "colab": {
          "base_uri": "https://localhost:8080/"
        },
        "id": "fEjHxfsYeANM",
        "outputId": "294484c5-071c-4581-d26a-cdaf2da38aa2"
      },
      "execution_count": 23,
      "outputs": [
        {
          "output_type": "stream",
          "name": "stdout",
          "text": [
            "The Beta of ACN against ^GSPC from 2020-01-01 to 2024-11-22 is: 1.07\n"
          ]
        }
      ]
    }
  ]
}
