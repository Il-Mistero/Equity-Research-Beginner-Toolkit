{
  "nbformat": 4,
  "nbformat_minor": 0,
  "metadata": {
    "colab": {
      "provenance": []
    },
    "kernelspec": {
      "name": "python3",
      "display_name": "Python 3"
    },
    "language_info": {
      "name": "python"
    }
  },
  "cells": [
    {
      "cell_type": "markdown",
      "source": [
        "**STEP 1**: The very first step of any great code is the **installation**, **importation** and **upgrade** of the necessary libraries"
      ],
      "metadata": {
        "id": "mIRaYgu9ZG7X"
      }
    },
    {
      "cell_type": "code",
      "execution_count": 26,
      "metadata": {
        "id": "ihhjMY1YuqAa"
      },
      "outputs": [],
      "source": [
        "!pip install yfinance pandas numpy matplotlib seaborn --quiet\n",
        "import yfinance as yf\n",
        "import pandas as pd\n",
        "import numpy as np\n",
        "import matplotlib.pyplot as plt\n",
        "import seaborn as sns"
      ]
    },
    {
      "cell_type": "markdown",
      "source": [
        "**STEP 2**: The next item on the agenda is to allow for the retrieval of information from the Yahoo Finance database. The **ticker**, **start date** and **end date** can easily be updated by the user"
      ],
      "metadata": {
        "id": "wkSlHGcvZn_n"
      }
    },
    {
      "cell_type": "code",
      "source": [
        "ticker = \"NVDA\"\n",
        "start_date = \"2020-01-01\"\n",
        "end_date = \"2024-09-30\"\n",
        "\n",
        "data = yf.download(ticker, start=start_date, end=end_date)\n",
        "print(data)"
      ],
      "metadata": {
        "colab": {
          "base_uri": "https://localhost:8080/"
        },
        "id": "W3qk6xAVTIF3",
        "outputId": "0d04e8e9-8416-44c9-e766-8d0d3329f597"
      },
      "execution_count": 27,
      "outputs": [
        {
          "output_type": "stream",
          "name": "stderr",
          "text": [
            "\r[*********************100%***********************]  1 of 1 completed"
          ]
        },
        {
          "output_type": "stream",
          "name": "stdout",
          "text": [
            "Price                       Adj Close       Close        High         Low  \\\n",
            "Ticker                           NVDA        NVDA        NVDA        NVDA   \n",
            "Date                                                                        \n",
            "2020-01-02 00:00:00+00:00    5.973122    5.997750    5.997750    5.918000   \n",
            "2020-01-03 00:00:00+00:00    5.877517    5.901750    5.945750    5.852500   \n",
            "2020-01-06 00:00:00+00:00    5.902165    5.926500    5.931750    5.781750   \n",
            "2020-01-07 00:00:00+00:00    5.973620    5.998250    6.044250    5.909750   \n",
            "2020-01-08 00:00:00+00:00    5.984824    6.009500    6.051000    5.953750   \n",
            "...                               ...         ...         ...         ...   \n",
            "2024-09-23 00:00:00+00:00  116.260002  116.260002  116.989998  114.860001   \n",
            "2024-09-24 00:00:00+00:00  120.870003  120.870003  121.800003  115.379997   \n",
            "2024-09-25 00:00:00+00:00  123.510002  123.510002  124.940002  121.610001   \n",
            "2024-09-26 00:00:00+00:00  124.040001  124.040001  127.669998  121.800003   \n",
            "2024-09-27 00:00:00+00:00  121.400002  121.400002  124.029999  119.260002   \n",
            "\n",
            "Price                            Open     Volume  \n",
            "Ticker                           NVDA       NVDA  \n",
            "Date                                              \n",
            "2020-01-02 00:00:00+00:00    5.968750  237536000  \n",
            "2020-01-03 00:00:00+00:00    5.877500  205384000  \n",
            "2020-01-06 00:00:00+00:00    5.808000  262636000  \n",
            "2020-01-07 00:00:00+00:00    5.955000  314856000  \n",
            "2020-01-08 00:00:00+00:00    5.994000  277108000  \n",
            "...                               ...        ...  \n",
            "2024-09-23 00:00:00+00:00  116.550003  206228500  \n",
            "2024-09-24 00:00:00+00:00  116.519997  354966800  \n",
            "2024-09-25 00:00:00+00:00  122.019997  284692900  \n",
            "2024-09-26 00:00:00+00:00  126.800003  302582900  \n",
            "2024-09-27 00:00:00+00:00  123.970001  271009200  \n",
            "\n",
            "[1193 rows x 6 columns]\n"
          ]
        },
        {
          "output_type": "stream",
          "name": "stderr",
          "text": [
            "\n"
          ]
        }
      ]
    },
    {
      "cell_type": "markdown",
      "source": [
        "**STEP 3**: Date from Yahoo Finance API comes in a combined form of day, month and year. For better analysis, **it needs to be separated**. To be more specific, the **year** aspect of the combined data is needed for the calculation of yearly returns"
      ],
      "metadata": {
        "id": "uFYExT0aaML_"
      }
    },
    {
      "cell_type": "code",
      "source": [
        "data.index = pd.to_datetime(data.index)\n",
        "\n",
        "data['Year'] = data.index.year\n",
        "data['Month'] = data.index.month\n",
        "data['Day'] = data.index.day\n",
        "data\n",
        "\n",
        "print(data)"
      ],
      "metadata": {
        "colab": {
          "base_uri": "https://localhost:8080/"
        },
        "id": "46VNAQFXUsSZ",
        "outputId": "514b6e6b-1404-4623-c1f3-f31908729c82"
      },
      "execution_count": 28,
      "outputs": [
        {
          "output_type": "stream",
          "name": "stdout",
          "text": [
            "Price                       Adj Close       Close        High         Low  \\\n",
            "Ticker                           NVDA        NVDA        NVDA        NVDA   \n",
            "Date                                                                        \n",
            "2020-01-02 00:00:00+00:00    5.973122    5.997750    5.997750    5.918000   \n",
            "2020-01-03 00:00:00+00:00    5.877517    5.901750    5.945750    5.852500   \n",
            "2020-01-06 00:00:00+00:00    5.902165    5.926500    5.931750    5.781750   \n",
            "2020-01-07 00:00:00+00:00    5.973620    5.998250    6.044250    5.909750   \n",
            "2020-01-08 00:00:00+00:00    5.984824    6.009500    6.051000    5.953750   \n",
            "...                               ...         ...         ...         ...   \n",
            "2024-09-23 00:00:00+00:00  116.260002  116.260002  116.989998  114.860001   \n",
            "2024-09-24 00:00:00+00:00  120.870003  120.870003  121.800003  115.379997   \n",
            "2024-09-25 00:00:00+00:00  123.510002  123.510002  124.940002  121.610001   \n",
            "2024-09-26 00:00:00+00:00  124.040001  124.040001  127.669998  121.800003   \n",
            "2024-09-27 00:00:00+00:00  121.400002  121.400002  124.029999  119.260002   \n",
            "\n",
            "Price                            Open     Volume  Year Month Day  \n",
            "Ticker                           NVDA       NVDA                  \n",
            "Date                                                              \n",
            "2020-01-02 00:00:00+00:00    5.968750  237536000  2020     1   2  \n",
            "2020-01-03 00:00:00+00:00    5.877500  205384000  2020     1   3  \n",
            "2020-01-06 00:00:00+00:00    5.808000  262636000  2020     1   6  \n",
            "2020-01-07 00:00:00+00:00    5.955000  314856000  2020     1   7  \n",
            "2020-01-08 00:00:00+00:00    5.994000  277108000  2020     1   8  \n",
            "...                               ...        ...   ...   ...  ..  \n",
            "2024-09-23 00:00:00+00:00  116.550003  206228500  2024     9  23  \n",
            "2024-09-24 00:00:00+00:00  116.519997  354966800  2024     9  24  \n",
            "2024-09-25 00:00:00+00:00  122.019997  284692900  2024     9  25  \n",
            "2024-09-26 00:00:00+00:00  126.800003  302582900  2024     9  26  \n",
            "2024-09-27 00:00:00+00:00  123.970001  271009200  2024     9  27  \n",
            "\n",
            "[1193 rows x 9 columns]\n"
          ]
        }
      ]
    },
    {
      "cell_type": "markdown",
      "source": [
        "**STEP 4**: The percentage change in daily return is computed in this step to allow for the calculation of the yearly return with the separated year aspect playing a huge role here"
      ],
      "metadata": {
        "id": "XoNwGl7Na8bJ"
      }
    },
    {
      "cell_type": "code",
      "source": [
        "data['Daily Return'] = data['Close'].pct_change()\n",
        "\n",
        "print(data)"
      ],
      "metadata": {
        "colab": {
          "base_uri": "https://localhost:8080/"
        },
        "id": "Rpl6Vgi-WbMe",
        "outputId": "ddb60f06-be98-481d-ebe2-21cc007e99e0"
      },
      "execution_count": 29,
      "outputs": [
        {
          "output_type": "stream",
          "name": "stdout",
          "text": [
            "Price                       Adj Close       Close        High         Low  \\\n",
            "Ticker                           NVDA        NVDA        NVDA        NVDA   \n",
            "Date                                                                        \n",
            "2020-01-02 00:00:00+00:00    5.973122    5.997750    5.997750    5.918000   \n",
            "2020-01-03 00:00:00+00:00    5.877517    5.901750    5.945750    5.852500   \n",
            "2020-01-06 00:00:00+00:00    5.902165    5.926500    5.931750    5.781750   \n",
            "2020-01-07 00:00:00+00:00    5.973620    5.998250    6.044250    5.909750   \n",
            "2020-01-08 00:00:00+00:00    5.984824    6.009500    6.051000    5.953750   \n",
            "...                               ...         ...         ...         ...   \n",
            "2024-09-23 00:00:00+00:00  116.260002  116.260002  116.989998  114.860001   \n",
            "2024-09-24 00:00:00+00:00  120.870003  120.870003  121.800003  115.379997   \n",
            "2024-09-25 00:00:00+00:00  123.510002  123.510002  124.940002  121.610001   \n",
            "2024-09-26 00:00:00+00:00  124.040001  124.040001  127.669998  121.800003   \n",
            "2024-09-27 00:00:00+00:00  121.400002  121.400002  124.029999  119.260002   \n",
            "\n",
            "Price                            Open     Volume  Year Month Day Daily Return  \n",
            "Ticker                           NVDA       NVDA                               \n",
            "Date                                                                           \n",
            "2020-01-02 00:00:00+00:00    5.968750  237536000  2020     1   2          NaN  \n",
            "2020-01-03 00:00:00+00:00    5.877500  205384000  2020     1   3    -0.016006  \n",
            "2020-01-06 00:00:00+00:00    5.808000  262636000  2020     1   6     0.004194  \n",
            "2020-01-07 00:00:00+00:00    5.955000  314856000  2020     1   7     0.012107  \n",
            "2020-01-08 00:00:00+00:00    5.994000  277108000  2020     1   8     0.001876  \n",
            "...                               ...        ...   ...   ...  ..          ...  \n",
            "2024-09-23 00:00:00+00:00  116.550003  206228500  2024     9  23     0.002241  \n",
            "2024-09-24 00:00:00+00:00  116.519997  354966800  2024     9  24     0.039653  \n",
            "2024-09-25 00:00:00+00:00  122.019997  284692900  2024     9  25     0.021842  \n",
            "2024-09-26 00:00:00+00:00  126.800003  302582900  2024     9  26     0.004291  \n",
            "2024-09-27 00:00:00+00:00  123.970001  271009200  2024     9  27    -0.021283  \n",
            "\n",
            "[1193 rows x 10 columns]\n"
          ]
        }
      ]
    },
    {
      "cell_type": "markdown",
      "source": [
        "**STEP 5**: Computation of the yearly returns"
      ],
      "metadata": {
        "id": "e7z_e1snbcJo"
      }
    },
    {
      "cell_type": "code",
      "source": [
        "yearly_returns = ((data['Close'].resample('YE').last() /\n",
        "                      data['Close'].resample('YE').first()) - 1) *100\n",
        "\n",
        "yearly_returns = yearly_returns.dropna()\n",
        "\n",
        "print(\"Yearly Returns:\")\n",
        "print(yearly_returns)"
      ],
      "metadata": {
        "colab": {
          "base_uri": "https://localhost:8080/"
        },
        "id": "RHehgF13Wraq",
        "outputId": "0d5e8caa-c595-4e74-b39e-cc9a5dd0ee75"
      },
      "execution_count": 30,
      "outputs": [
        {
          "output_type": "stream",
          "name": "stdout",
          "text": [
            "Yearly Returns:\n",
            "Ticker                           NVDA\n",
            "Date                                 \n",
            "2020-12-31 00:00:00+00:00  117.664970\n",
            "2021-12-31 00:00:00+00:00  124.280323\n",
            "2022-12-31 00:00:00+00:00  -51.482354\n",
            "2023-12-31 00:00:00+00:00  245.944819\n",
            "2024-12-31 00:00:00+00:00  152.034553\n"
          ]
        }
      ]
    },
    {
      "cell_type": "markdown",
      "source": [
        "**STEP 6**: Computation of the average yearly return"
      ],
      "metadata": {
        "id": "CHUWVHRRciOx"
      }
    },
    {
      "cell_type": "code",
      "source": [
        "average_yearly_return = yearly_returns.mean()\n",
        "print(\"The Average Yearly Return:\")\n",
        "print(average_yearly_return)"
      ],
      "metadata": {
        "colab": {
          "base_uri": "https://localhost:8080/"
        },
        "id": "F0K1UToRYWGG",
        "outputId": "8f7cb521-7e9b-459a-9f58-7b082eee4af8"
      },
      "execution_count": 31,
      "outputs": [
        {
          "output_type": "stream",
          "name": "stdout",
          "text": [
            "The Average Yearly Return:\n",
            "Ticker\n",
            "NVDA    117.688462\n",
            "dtype: float64\n"
          ]
        }
      ]
    }
  ]
}